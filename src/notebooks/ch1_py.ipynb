{
 "cells": [
  {
   "cell_type": "markdown",
   "id": "15a9ebb3",
   "metadata": {},
   "source": [
    "# ファイル入出力操作(Python編)"
   ]
  }
 ],
 "metadata": {
  "kernelspec": {
   "display_name": "Python(ds)",
   "language": "python",
   "name": "ds"
  },
  "language_info": {
   "name": "python",
   "version": "3.12.11"
  }
 },
 "nbformat": 4,
 "nbformat_minor": 5
}
